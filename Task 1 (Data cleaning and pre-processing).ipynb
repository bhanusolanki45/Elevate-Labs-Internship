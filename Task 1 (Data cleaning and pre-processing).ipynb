{
 "cells": [
  {
   "cell_type": "code",
   "execution_count": 127,
   "id": "87aa1e0d-7285-4b4e-9ec6-0c5fd512f5d9",
   "metadata": {},
   "outputs": [
    {
     "name": "stdout",
     "output_type": "stream",
     "text": [
      "  show_id     type                  title         director  \\\n",
      "0      s1    Movie   Dick Johnson Is Dead  Kirsten Johnson   \n",
      "1      s2  TV Show          Blood & Water              NaN   \n",
      "2      s3  TV Show              Ganglands  Julien Leclercq   \n",
      "3      s4  TV Show  Jailbirds New Orleans              NaN   \n",
      "4      s5  TV Show           Kota Factory              NaN   \n",
      "\n",
      "                                                cast        country  \\\n",
      "0                                                NaN  United States   \n",
      "1  Ama Qamata, Khosi Ngema, Gail Mabalane, Thaban...   South Africa   \n",
      "2  Sami Bouajila, Tracy Gotoas, Samuel Jouy, Nabi...            NaN   \n",
      "3                                                NaN            NaN   \n",
      "4  Mayur More, Jitendra Kumar, Ranjan Raj, Alam K...          India   \n",
      "\n",
      "           date_added  release_year rating   duration  \\\n",
      "0  September 25, 2021          2020  PG-13     90 min   \n",
      "1  September 24, 2021          2021  TV-MA  2 Seasons   \n",
      "2  September 24, 2021          2021  TV-MA   1 Season   \n",
      "3  September 24, 2021          2021  TV-MA   1 Season   \n",
      "4  September 24, 2021          2021  TV-MA  2 Seasons   \n",
      "\n",
      "                                           listed_in  \\\n",
      "0                                      Documentaries   \n",
      "1    International TV Shows, TV Dramas, TV Mysteries   \n",
      "2  Crime TV Shows, International TV Shows, TV Act...   \n",
      "3                             Docuseries, Reality TV   \n",
      "4  International TV Shows, Romantic TV Shows, TV ...   \n",
      "\n",
      "                                         description  \n",
      "0  As her father nears the end of his life, filmm...  \n",
      "1  After crossing paths at a party, a Cape Town t...  \n",
      "2  To protect his family from a powerful drug lor...  \n",
      "3  Feuds, flirtations and toilet talk go down amo...  \n",
      "4  In a city of coaching centers known to train I...  \n",
      "<class 'pandas.core.frame.DataFrame'>\n",
      "RangeIndex: 8807 entries, 0 to 8806\n",
      "Data columns (total 12 columns):\n",
      " #   Column        Non-Null Count  Dtype \n",
      "---  ------        --------------  ----- \n",
      " 0   show_id       8807 non-null   object\n",
      " 1   type          8807 non-null   object\n",
      " 2   title         8807 non-null   object\n",
      " 3   director      6173 non-null   object\n",
      " 4   cast          7982 non-null   object\n",
      " 5   country       7976 non-null   object\n",
      " 6   date_added    8797 non-null   object\n",
      " 7   release_year  8807 non-null   int64 \n",
      " 8   rating        8803 non-null   object\n",
      " 9   duration      8804 non-null   object\n",
      " 10  listed_in     8807 non-null   object\n",
      " 11  description   8807 non-null   object\n",
      "dtypes: int64(1), object(11)\n",
      "memory usage: 825.8+ KB\n",
      "None\n"
     ]
    }
   ],
   "source": [
    "import pandas as pd\n",
    "df = pd.read_csv('C:\\\\Users\\\\bhanu\\\\Downloads\\\\archive\\\\netflix_titles.csv')\n",
    "print(df.head())\n",
    "print(df.info())"
   ]
  },
  {
   "cell_type": "code",
   "execution_count": 129,
   "id": "216692ca-d95c-43d3-8bfc-4a663f4a5f68",
   "metadata": {},
   "outputs": [
    {
     "name": "stdout",
     "output_type": "stream",
     "text": [
      "show_id            0\n",
      "type               0\n",
      "title              0\n",
      "director        2634\n",
      "cast             825\n",
      "country          831\n",
      "date_added        10\n",
      "release_year       0\n",
      "rating             4\n",
      "duration           3\n",
      "listed_in          0\n",
      "description        0\n",
      "dtype: int64\n"
     ]
    }
   ],
   "source": [
    "# Finding Missing Values\n",
    "\n",
    "print(df.isnull().sum())"
   ]
  },
  {
   "cell_type": "code",
   "execution_count": 133,
   "id": "a6347d34-e273-4dfa-a2a1-f849a7c30309",
   "metadata": {},
   "outputs": [
    {
     "name": "stdout",
     "output_type": "stream",
     "text": [
      "January 1, 2020\n",
      "show_id         0\n",
      "type            0\n",
      "title           0\n",
      "director        0\n",
      "cast            0\n",
      "country         0\n",
      "date_added      0\n",
      "release_year    0\n",
      "rating          0\n",
      "duration        0\n",
      "listed_in       0\n",
      "description     0\n",
      "dtype: int64\n"
     ]
    }
   ],
   "source": [
    "# Modifying Missing Values:\n",
    "# Filled director (2,634 missing) with “Unknown”.\n",
    "# Filled cast (825 missing) with “Unknown”.\n",
    "# Filled country (831 missing) with “Unknown”.\n",
    "# Fiiled 10 rows with missing date_added ( filled with mode)\n",
    "# Filled rating (4 missing) with “Not Rated”\n",
    "# Dropped 3 rows with missing duration (“Unknown”).\n",
    "\n",
    "df['director'].fillna('Unknown', inplace=True)\n",
    "df['cast'].fillna('Unknown',inplace=True)\n",
    "df['country'].fillna('Unknown', inplace=True)\n",
    "print(df['date_added'].mode()[0])\n",
    "df['date_added'].fillna(df['date_added'].mode()[0],inplace=True)\n",
    "df['rating'].fillna('Not Rated', inplace=True)\n",
    "df['duration'].fillna('Unknown', inplace=True)\n",
    "\n",
    "print(df.isnull().sum())"
   ]
  },
  {
   "cell_type": "code",
   "execution_count": 135,
   "id": "22e08c5d-aa47-463e-a1d0-d6e8be4cf07e",
   "metadata": {
    "collapsed": true,
    "jupyter": {
     "outputs_hidden": true
    }
   },
   "outputs": [
    {
     "name": "stdout",
     "output_type": "stream",
     "text": [
      "0\n",
      "0\n"
     ]
    }
   ],
   "source": [
    "# Check Duplicate\n",
    "print(df.duplicated(). sum())\n",
    "print(df['show_id'].duplicated().sum())\n",
    "\n",
    "# Since there is no any Duplicate Value in the DataSet"
   ]
  },
  {
   "cell_type": "code",
   "execution_count": null,
   "id": "0aa514cc-54d7-40c4-b4eb-cc2c17b7ef29",
   "metadata": {},
   "outputs": [],
   "source": []
  },
  {
   "cell_type": "code",
   "execution_count": null,
   "id": "b3de7a97-72bc-445c-9246-7f824443bdb3",
   "metadata": {},
   "outputs": [],
   "source": [
    "# Standardize Text value as all Column's text in a lower case and proper spacinng.\n",
    "# Removed leading/trailing spaces\n",
    "# Converted to lowercase\n",
    "\n",
    "df['country'] = df['country'].str.strip()         \n",
    "df['country'] = df['country'].str.lower()         \n",
    "print(df['country'].unique())\n",
    "\n",
    "\n",
    "df['type'] = df['type'].str.strip()        \n",
    "df['type'] = df['type'].str.lower()        \n",
    "print(df['type'].unique())\n",
    "\n",
    "df['title'] = df['title'].str.strip()      \n",
    "df['title'] = df['title'].str.lower()       \n",
    "print(df['title'].unique())\n",
    "\n",
    "df['director'] = df['director'].str.strip()         \n",
    "df['director'] = df['director'].str.lower()        \n",
    "print(df['director'].unique())\n",
    "\n",
    "df['cast'] = df['cast'].str.strip()       \n",
    "df['cast'] = df['cast'].str.lower()         \n",
    "print(df['cast'].unique())\n",
    "\n",
    "df['listed_in'] = df['listed_in'].str.strip()         \n",
    "df['listed_in'] = df['listed_in'].str.lower()      \n",
    "print(df['listed_in'].unique())\n",
    "\n",
    "\n",
    "df['description'] = df['description'].str.strip()         \n",
    "df['description'] = df['description'].str.lower()        \n",
    "print(df['description'].unique())\n",
    "\n",
    "\n"
   ]
  },
  {
   "cell_type": "code",
   "execution_count": 137,
   "id": "c01f41aa-7618-4746-9d7b-b35a4afff5ab",
   "metadata": {},
   "outputs": [
    {
     "name": "stdout",
     "output_type": "stream",
     "text": [
      "88\n"
     ]
    }
   ],
   "source": [
    "#  Convert date formats to a consistent type (e.g., dd-mm-yyyy)\n",
    "\n",
    "df['date_added']=pd.to_datetime(df['date_added'], errors = 'coerce')\n",
    "df['date_added']= df['date_added'].dt.strftime('%d-%m-%Y')\n",
    "print(df['date_added'].isnull().sum())"
   ]
  },
  {
   "cell_type": "code",
   "execution_count": 143,
   "id": "97820ba0-7c61-4e2c-b815-fbca5f328862",
   "metadata": {},
   "outputs": [
    {
     "name": "stdout",
     "output_type": "stream",
     "text": [
      "01-01-2020\n",
      "show_id         0\n",
      "type            0\n",
      "title           0\n",
      "director        0\n",
      "cast            0\n",
      "country         0\n",
      "date_added      0\n",
      "release_year    0\n",
      "rating          0\n",
      "duration        0\n",
      "listed_in       0\n",
      "description     0\n",
      "dtype: int64\n"
     ]
    }
   ],
   "source": [
    "print(df['date_added'].mode()[0])\n",
    "df['date_added'].fillna(df['date_added'].mode()[0],inplace=True)\n",
    "\n",
    "print(df.isnull().sum())"
   ]
  },
  {
   "cell_type": "code",
   "execution_count": 149,
   "id": "2e65d698-78ed-48c5-a49d-95d6c9a4b149",
   "metadata": {},
   "outputs": [
    {
     "name": "stdout",
     "output_type": "stream",
     "text": [
      "Index(['show_id', 'type', 'title', 'director', 'cast', 'country', 'date_added',\n",
      "       'release_year', 'rating', 'duration', 'listed_in', 'description'],\n",
      "      dtype='object')\n"
     ]
    }
   ],
   "source": [
    "# Renamed column headers to be clean and uniform with (lowercase, no spaces).\n",
    "\n",
    "df.columns = df.columns.str.lower().str.replace(' ','-')\n",
    "print(df.columns)"
   ]
  },
  {
   "cell_type": "code",
   "execution_count": 151,
   "id": "9ae5fc28-5ea2-42a3-a619-ed03c5ad10f3",
   "metadata": {},
   "outputs": [
    {
     "name": "stdout",
     "output_type": "stream",
     "text": [
      "show_id         object\n",
      "type            object\n",
      "title           object\n",
      "director        object\n",
      "cast            object\n",
      "country         object\n",
      "date_added      object\n",
      "release_year     int64\n",
      "rating          object\n",
      "duration        object\n",
      "listed_in       object\n",
      "description     object\n",
      "dtype: object\n"
     ]
    }
   ],
   "source": [
    " # Checked and fix data types (age should be int, date as datetime).\n",
    "\n",
    "print(df.dtypes)"
   ]
  },
  {
   "cell_type": "code",
   "execution_count": null,
   "id": "a2ffb8a7-5e87-433e-a441-2b14ba63ba05",
   "metadata": {},
   "outputs": [],
   "source": []
  }
 ],
 "metadata": {
  "kernelspec": {
   "display_name": "Python [conda env:base] *",
   "language": "python",
   "name": "conda-base-py"
  },
  "language_info": {
   "codemirror_mode": {
    "name": "ipython",
    "version": 3
   },
   "file_extension": ".py",
   "mimetype": "text/x-python",
   "name": "python",
   "nbconvert_exporter": "python",
   "pygments_lexer": "ipython3",
   "version": "3.12.7"
  }
 },
 "nbformat": 4,
 "nbformat_minor": 5
}
